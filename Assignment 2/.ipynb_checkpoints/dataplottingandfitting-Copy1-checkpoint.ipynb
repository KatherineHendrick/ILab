{
 "cells": [
  {
   "cell_type": "markdown",
   "metadata": {},
   "source": [
    "# Data Plotting and Fitting Exercise"
   ]
  },
  {
   "cell_type": "markdown",
   "metadata": {},
   "source": [
    "Here is an example of fitting data using python. \n",
    "Here is an outline of the method:\n",
    "    1. Load needed libraries for analysis and plotting \n",
    "    2. Define a fitting function\n",
    "    3. Load the data file (or define the data manually if easier)\n",
    "    4. Perform the fit and plot the result\n",
    "    \n",
    "Load the needed libraries:"
   ]
  },
  {
   "cell_type": "code",
   "execution_count": 11,
   "metadata": {
    "collapsed": false
   },
   "outputs": [],
   "source": [
    "import numpy as np\n",
    "import matplotlib.pyplot as plt\n",
    "from scipy.optimize import curve_fit\n",
    "% matplotlib inline\n",
    "from matplotlib import rc\n",
    "rc('text', usetex=True)\n",
    "from pylab import rcParams\n",
    "rcParams['figure.figsize'] = 10,8"
   ]
  },
  {
   "cell_type": "markdown",
   "metadata": {},
   "source": [
    "Now I will define three different fitting functions:"
   ]
  },
  {
   "cell_type": "code",
   "execution_count": 12,
   "metadata": {
    "collapsed": true
   },
   "outputs": [],
   "source": [
    "def linearFit(t, m, b): \n",
    "    return m*t + b\n",
    "\n",
    "def expDecay(t, a, b, c):\n",
    "    return a*np.exp(-b*t) + c\n",
    "\n",
    "def gaussianWithOffset(t, a, c, sigma):\n",
    "    return a*np.exp(-((t-c)**2)/(2*sigma**2))"
   ]
  },
  {
   "cell_type": "markdown",
   "metadata": {},
   "source": [
    "Now I read in the needed data file; the \"skiprows\" parameter allows\n",
    "me to ignore the header line which labels the columns."
   ]
  },
  {
   "cell_type": "code",
   "execution_count": 14,
   "metadata": {
    "collapsed": false
   },
   "outputs": [],
   "source": [
    "data = np.genfromtxt('002data.txt', skip_header=1)"
   ]
  },
  {
   "cell_type": "markdown",
   "metadata": {},
   "source": [
    "This command extracts the first column of data;\n",
    "python indexes starting at zero, so be careful!"
   ]
  },
  {
   "cell_type": "code",
   "execution_count": 6,
   "metadata": {
    "collapsed": false
   },
   "outputs": [
    {
     "data": {
      "text/plain": [
       "array([ 0.015,  0.172,  0.329,  0.486,  0.643,  0.8  ,  0.958,  1.115,\n",
       "        1.272,  1.429,  1.586,  1.743,  1.9  ,  2.057,  2.214,  2.317,\n",
       "        2.528,  2.685,  2.843,  3.   ])"
      ]
     },
     "execution_count": 6,
     "metadata": {},
     "output_type": "execute_result"
    }
   ],
   "source": [
    "data[ : ,0]  "
   ]
  },
  {
   "cell_type": "code",
   "execution_count": 17,
   "metadata": {
    "collapsed": true
   },
   "outputs": [],
   "source": [
    "x = data[ : ,0]\n",
    "z = data[ : ,1]\n",
    "u = data[ : ,2]\n"
   ]
  },
  {
   "cell_type": "code",
   "execution_count": 19,
   "metadata": {
    "collapsed": false
   },
   "outputs": [
    {
     "data": {
      "image/png": "[encoded data removed]",
      "text/plain": [
       "<matplotlib.figure.Figure at 0x7f5a38e1c5c0>"
      ]
     },
     "metadata": {},
     "output_type": "display_data"
    }
   ],
   "source": [
    "plt.plot(x,z,'o')\n",
    "\n",
    "plt.show()"
   ]
  },
  {
   "cell_type": "code",
   "execution_count": 16,
   "metadata": {
    "collapsed": false
   },
   "outputs": [
    {
     "ename": "NameError",
     "evalue": "name 'x' is not defined",
     "output_type": "error",
     "traceback": [
      "\u001b[1;31m---------------------------------------------------------------------------\u001b[0m",
      "\u001b[1;31mNameError\u001b[0m                                 Traceback (most recent call last)",
      "\u001b[1;32m<ipython-input-16-6f9b0819bf01>\u001b[0m in \u001b[0;36m<module>\u001b[1;34m()\u001b[0m\n\u001b[1;32m----> 1\u001b[1;33m \u001b[0mfitParams\u001b[0m\u001b[1;33m,\u001b[0m \u001b[0mfitCovariances\u001b[0m \u001b[1;33m=\u001b[0m \u001b[0mcurve_fit\u001b[0m\u001b[1;33m(\u001b[0m\u001b[0mlinearFit\u001b[0m\u001b[1;33m,\u001b[0m \u001b[0mx\u001b[0m\u001b[1;33m,\u001b[0m \u001b[0mz\u001b[0m\u001b[1;33m)\u001b[0m\u001b[1;33m\u001b[0m\u001b[0m\n\u001b[0m\u001b[0;32m      2\u001b[0m \u001b[0mprint\u001b[0m\u001b[1;33m(\u001b[0m\u001b[0mfitParams\u001b[0m\u001b[1;33m)\u001b[0m\u001b[1;33m\u001b[0m\u001b[0m\n\u001b[0;32m      3\u001b[0m \u001b[0mprint\u001b[0m\u001b[1;33m(\u001b[0m\u001b[0mfitCovariances\u001b[0m\u001b[1;33m)\u001b[0m\u001b[1;33m\u001b[0m\u001b[0m\n",
      "\u001b[1;31mNameError\u001b[0m: name 'x' is not defined"
     ]
    }
   ],
   "source": [
    "fitParams, fitCovariances = curve_fit(linearFit, x, z)\n",
    "print(fitParams)\n",
    "print(fitCovariances)"
   ]
  },
  {
   "cell_type": "code",
   "execution_count": 19,
   "metadata": {
    "collapsed": false
   },
   "outputs": [
    {
     "data": {
      "image/png": "[encoded data removed]",
      "text/plain": [
       "<matplotlib.figure.Figure at 0x11627cb38>"
      ]
     },
     "metadata": {},
     "output_type": "display_data"
    }
   ],
   "source": [
    "plt.ylabel(r'$\\mathrm{Z (m)}$', fontsize = 16)\n",
    "plt.xlabel(r'$\\mathrm{x (s)}$', fontsize = 16)\n",
    "#plt.xlim(0,3.5)\n",
    "# plot the data as red circles with errorbars in the vertical direction\n",
    "plt.errorbar(x, z, fmt = 'ro', yerr = 0.2)\n",
    "# now plot the best fit curve and also +- 3 sigma curves\n",
    "# the square root of the diagonal covariance matrix element \n",
    "# is the uncertianty on the corresponding fit parameter.\n",
    "sigma = np.sqrt([fitCovariances[0,0], fitCovariances[1,1]])\n",
    "\n",
    "plt.plot(x, linearFit(x, fitParams[0], fitParams[1]),\\\n",
    "         x, linearFit(x, fitParams[0] + 3*sigma[0], fitParams[1] - 3*sigma[1]),\\\n",
    "         x, linearFit(x, fitParams[0] - 3*sigma[0], fitParams[1] + 3*sigma[1])\\\n",
    "         )\n",
    "props = dict(boxstyle='round', facecolor='wheat', alpha=0.2)\n",
    "plt.text(0.15, 8.0, \n",
    "    (\"curve fit values:\\n m = %.3f\\t $\\pm$ %.3f\\n b = %.3f\\t $\\pm$ %.3f\" \n",
    "    % (fitParams[0], sigma[0], fitParams[1], sigma[1])), fontsize=14,bbox=props )\n",
    "\n",
    "# save plot to a file\n",
    "#plt.savefig('dataFitted.png', bbox_inches=0, dpi=600)\n",
    "plt.show()"
   ]
  },
  {
   "cell_type": "code",
   "execution_count": null,
   "metadata": {
    "collapsed": true
   },
   "outputs": [],
   "source": []
  }
 ],
 "metadata": {
  "kernelspec": {
   "display_name": "Python 3",
   "language": "python",
   "name": "python3"
  },
  "language_info": {
   "codemirror_mode": {
    "name": "ipython",
    "version": 3
   },
   "file_extension": ".py",
   "mimetype": "text/x-python",
   "name": "python",
   "nbconvert_exporter": "python",
   "pygments_lexer": "ipython3",
   "version": "3.4.3"
  }
 },
 "nbformat": 4,
 "nbformat_minor": 0
}
