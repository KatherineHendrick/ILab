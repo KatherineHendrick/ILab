{
 "cells": [
  {
   "cell_type": "code",
   "execution_count": 1,
   "metadata": {
    "collapsed": true
   },
   "outputs": [],
   "source": [
    "import numpy as np\n",
    "import matplotlib.pyplot as plt\n",
    "from scipy.optimize import curve_fit\n",
    "% matplotlib inline\n",
    "from matplotlib import rc\n",
    "rc('text', usetex=True)\n",
    "from pylab import rcParams\n",
    "rcParams['figure.figsize'] = 10,8"
   ]
  },
  {
   "cell_type": "code",
   "execution_count": 2,
   "metadata": {
    "collapsed": false
   },
   "outputs": [],
   "source": [
    "dist_uncert = 0.05 #in meters\n",
    "time_uncert = 4*(10**(-9)) #in seconds"
   ]
  },
  {
   "cell_type": "code",
   "execution_count": 3,
   "metadata": {
    "collapsed": true
   },
   "outputs": [],
   "source": [
    "def linearFit(t, m): \n",
    "    return m*t\n",
    "\n",
    "#defines linear fit function"
   ]
  },
  {
   "cell_type": "code",
   "execution_count": 4,
   "metadata": {
    "collapsed": false
   },
   "outputs": [],
   "source": [
    "data = np.genfromtxt('rawData.csv', delimiter = ',', skip_header=True)\n",
    "#imports data from text file"
   ]
  },
  {
   "cell_type": "code",
   "execution_count": 5,
   "metadata": {
    "collapsed": false
   },
   "outputs": [
    {
     "name": "stdout",
     "output_type": "stream",
     "text": [
      "[[  1.06854000e+02   3.68000000e-07]\n",
      " [  9.68540000e+01   3.40000000e-07]\n",
      " [  8.68540000e+01   3.16000000e-07]\n",
      " [  7.68540000e+01   3.00000000e-07]\n",
      " [  6.60000000e+01   2.78000000e-07]\n",
      " [  5.60000000e+01   2.60000000e-07]\n",
      " [  4.60000000e+01   2.40000000e-07]\n",
      " [  3.60000000e+01   2.18000000e-07]\n",
      " [  2.60000000e+01   1.98000000e-07]\n",
      " [  1.60000000e+01   1.80000000e-07]]\n"
     ]
    }
   ],
   "source": [
    "print(data)"
   ]
  },
  {
   "cell_type": "code",
   "execution_count": 6,
   "metadata": {
    "collapsed": false
   },
   "outputs": [],
   "source": [
    "xInFeet = data[ :, 0]\n",
    "tInS = data[ :, 1]\n",
    "dx = [] #total change in distance travelled by the light in meters\n",
    "dt = [] #change in time"
   ]
  },
  {
   "cell_type": "code",
   "execution_count": 7,
   "metadata": {
    "collapsed": false
   },
   "outputs": [
    {
     "name": "stdout",
     "output_type": "stream",
     "text": [
      "[55.384598400000002, 49.288598400000005, 43.192598400000001, 37.096598400000005, 30.48, 24.384, 18.288, 12.192, 6.0960000000000001, 0.0]\n"
     ]
    }
   ],
   "source": [
    "i = 0\n",
    "for i in range(len(xInFeet)):\n",
    "    dx.append(2*0.3048*(xInFeet[i]-xInFeet[9]))\n",
    "    i+=1\n",
    "print (dx)\n",
    "# calculates the total change in distance (twice the mirror's change) and converts it to meters"
   ]
  },
  {
   "cell_type": "code",
   "execution_count": 8,
   "metadata": {
    "collapsed": false
   },
   "outputs": [
    {
     "name": "stdout",
     "output_type": "stream",
     "text": [
      "[1.8800000000000002e-07, 1.5999999999999998e-07, 1.3600000000000003e-07, 1.1999999999999999e-07, 9.7999999999999978e-08, 8.0000000000000002e-08, 5.9999999999999981e-08, 3.7999999999999996e-08, 1.8000000000000002e-08, 0.0]\n"
     ]
    }
   ],
   "source": [
    "j = 0\n",
    "for j in range(len(tInS)):\n",
    "    dt.append(tInS[j]-tInS[9])\n",
    "    j+=1\n",
    "print (dt)\n",
    "#calculates the change in time"
   ]
  },
  {
   "cell_type": "code",
   "execution_count": 9,
   "metadata": {
    "collapsed": false
   },
   "outputs": [],
   "source": [
    "dx = np.array(dx)\n",
    "dt = np.array(dt)\n",
    "#transforms dx and dt from lists into arrays to allow the curvefit function to work properly"
   ]
  },
  {
   "cell_type": "markdown",
   "metadata": {},
   "source": [
    "Uncertainties: $\\Delta x = \\pm 0.05m$, $\\Delta t = \\pm 4 ns$\n",
    "\n",
    "$c = \\frac{dx}{dt}$\n",
    "\n",
    "$\\Delta c = \\sqrt{(\\frac{\\partial c}{\\partial x}\\Delta x)^2 + (\\frac{\\partial c}{\\partial t}\\Delta t)^2}$\n",
    "\n",
    "$\\Delta c = \\sqrt{(\\frac{1}{t}0.05)^2 + (-xt^{-2}4\\times10^{-9})^2}$"
   ]
  },
  {
   "cell_type": "code",
   "execution_count": 10,
   "metadata": {
    "collapsed": true
   },
   "outputs": [],
   "source": [
    "uncertaintyInC = []"
   ]
  },
  {
   "cell_type": "code",
   "execution_count": 11,
   "metadata": {
    "collapsed": false
   },
   "outputs": [
    {
     "name": "stdout",
     "output_type": "stream",
     "text": [
      "[265957.44936762907, 312500.00661872228, 367647.07709888852, 416666.71555889887, 510204.27859437, 625000.88395450986, 833339.95549309056, 1315921.4352923788, 2797573.7971550715]\n"
     ]
    }
   ],
   "source": [
    "k=0\n",
    "for k in range(len(dx)-1):\n",
    "    uncertaintyInC.append(np.sqrt(((dist_uncert/dt[k])**2)+((dx[k]*dt[k])**(-2)*time_uncert)**2))\n",
    "    k+=1\n",
    "print(uncertaintyInC)"
   ]
  },
  {
   "cell_type": "code",
   "execution_count": 12,
   "metadata": {
    "collapsed": false
   },
   "outputs": [
    {
     "name": "stdout",
     "output_type": "stream",
     "text": [
      "827201.288793\n"
     ]
    }
   ],
   "source": [
    "dc = np.average(uncertaintyInC)\n",
    "print(dc) #this gives our average uncertainty of the speed of light"
   ]
  },
  {
   "cell_type": "code",
   "execution_count": 13,
   "metadata": {
    "collapsed": false
   },
   "outputs": [
    {
     "name": "stdout",
     "output_type": "stream",
     "text": [
      "[  3.05804338e+08]\n",
      "[[  7.95203571e+12]]\n"
     ]
    }
   ],
   "source": [
    "fitParams, fitCovariances = curve_fit(linearFit, dt, dx)\n",
    "print(fitParams)\n",
    "print(fitCovariances)"
   ]
  },
  {
   "cell_type": "code",
   "execution_count": 14,
   "metadata": {
    "collapsed": false
   },
   "outputs": [
    {
     "name": "stdout",
     "output_type": "stream",
     "text": [
      "[ 8459806.22760442]\n"
     ]
    }
   ],
   "source": [
    "sigma = np.sqrt([fitCovariances[0,0]])\n",
    "print (3*sigma) #this gives the numerical value for three standard deviations, used in plotting."
   ]
  },
  {
   "cell_type": "code",
   "execution_count": 15,
   "metadata": {
    "collapsed": false
   },
   "outputs": [
    {
     "data": {
      "text/plain": [
       "<function matplotlib.pyplot.show>"
      ]
     },
     "execution_count": 15,
     "metadata": {},
     "output_type": "execute_result"
    },
    {
     "data": {
      "image/png": "[encoded data removed]",
      "text/plain": [
       "<matplotlib.figure.Figure at 0x7fc3a59fa940>"
      ]
     },
     "metadata": {},
     "output_type": "display_data"
    }
   ],
   "source": [
    "plt.plot (dt, dx, 'o')\n",
    "plt.errorbar(dt, dx, fmt = 'ro', xerr=time_uncert, yerr = dist_uncert)\n",
    "plt.xlim(0,2.0e-07)\n",
    "plt.ylim(0,60)\n",
    "plt.xlabel('Change in Time (s)', fontsize = 14)\n",
    "plt.ylabel('Change in Distance (m)', fontsize = 14)\n",
    "plt.title('Speed of Light (m/s)', fontsize = 18)\n",
    "plt.plot(dt, linearFit(dt, fitParams[0]), label='$c=3.06$ x $10^8  \\pm 8.27$ x $10^5  m/s$')\n",
    "plt.plot(dt, linearFit(dt, fitParams[0]+3*sigma[0]), label='$c=3.06$ x $10^8+ 8.46$ x $10^6 m/s$')\n",
    "plt.plot(dt, linearFit(dt, fitParams[0]-3*sigma[0]), label='$c=3.06$ x $10^8- 8.46$ x $10^6 m/s$')\n",
    "plt.legend(bbox_to_anchor=(0.6,0.95), fontsize = 18)\n",
    "plt.savefig('speedOfLightData.png', bbox_inches=0, dpi=600)\n",
    "\n",
    "plt.show"
   ]
  },
  {
   "cell_type": "code",
   "execution_count": null,
   "metadata": {
    "collapsed": false
   },
   "outputs": [],
   "source": [
    "\n"
   ]
  },
  {
   "cell_type": "code",
   "execution_count": null,
   "metadata": {
    "collapsed": true
   },
   "outputs": [],
   "source": []
  },
  {
   "cell_type": "code",
   "execution_count": null,
   "metadata": {
    "collapsed": true
   },
   "outputs": [],
   "source": []
  }
 ],
 "metadata": {
  "kernelspec": {
   "display_name": "Python 3",
   "language": "python",
   "name": "python3"
  },
  "language_info": {
   "codemirror_mode": {
    "name": "ipython",
    "version": 3
   },
   "file_extension": ".py",
   "mimetype": "text/x-python",
   "name": "python",
   "nbconvert_exporter": "python",
   "pygments_lexer": "ipython3",
   "version": "3.4.3"
  }
 },
 "nbformat": 4,
 "nbformat_minor": 0
}
